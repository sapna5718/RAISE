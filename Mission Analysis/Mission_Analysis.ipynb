{
  "nbformat": 4,
  "nbformat_minor": 0,
  "metadata": {
    "colab": {
      "name": "Mission_Analysis.ipynb",
      "provenance": [],
      "toc_visible": true,
      "authorship_tag": "ABX9TyPOI9NhScsRKQ3znwv/q8cl",
      "include_colab_link": true
    },
    "kernelspec": {
      "name": "python3",
      "display_name": "Python 3"
    },
    "language_info": {
      "name": "python"
    }
  },
  "cells": [
    {
      "cell_type": "markdown",
      "metadata": {
        "id": "view-in-github",
        "colab_type": "text"
      },
      "source": [
        "<a href=\"https://colab.research.google.com/github/sapna5718/RAISE/blob/main/Mission%20Analysis/Mission_Analysis.ipynb\" target=\"_parent\"><img src=\"https://colab.research.google.com/assets/colab-badge.svg\" alt=\"Open In Colab\"/></a>"
      ]
    },
    {
      "cell_type": "markdown",
      "source": [
        "# Mission Analysis"
      ],
      "metadata": {
        "id": "j7Oa7XvJWZ66"
      }
    },
    {
      "cell_type": "code",
      "source": [
        "# Mercury Lander\n",
        "import numpy as np\n",
        "import math\n",
        "\n",
        "# Lander Parameters\n",
        "m_solid = 113.8 # NG rocket motor; kg\n",
        "m_propellant = 89 # kg\n",
        "m_casing = m_solid - m_propellant # kg\n",
        "m_lander = 156+98 # Lander mass without rocket motors includes ascent vehile; kg\n",
        "m_ascent = 75 # Ascent vehicle mass; kg\n",
        "\n",
        "# Orbital Parameters\n",
        "mu = 2.2032 * 10**13 # Gravitational Parameter; m^3/s^2\n",
        "r_mercury = 2.4397 * 10**6 # Mercury radius; m\n",
        "rp = (200 * (10 ** 3)) + r_mercury # Perigee of parking orbit around Mercury; m\n",
        "ra = (200 * (10 ** 3)) + r_mercury # Apogee of parking orbit around Mercury; m\n",
        "a1 = (ra + rp)/2\n",
        "w = (2*math.pi/(58.6*24*3600))*r_mercury # speed of Mercury's surface; m/s\n",
        "#print(w)\n",
        "g_merc = 3.7; # m/s^2\n",
        "\n",
        "# Orbital Mechanics\n",
        "# Velocity at periapsis of parking orbit\n",
        "v1 = np.sqrt((2*mu/rp)-(mu/a1))\n",
        "#print(v1)\n",
        "a2 = ((rp-r_mercury)/2 + r_mercury)\n",
        "v2 = np.sqrt((2*mu/rp)-(mu/a2))\n",
        "v3 = np.sqrt((2*mu/r_mercury)-(mu/a2))\n",
        "\n",
        "#print(v2)\n",
        "#print(v3)\n",
        "dv1 = v2-v1\n",
        "dv2 = v3\n",
        "dv_total = np.abs(dv1)+np.abs(dv2)\n",
        "print(dv_total)\n",
        "\n",
        "# Prop Budget for landing\n",
        "Isp = (281*32.174*0.3048)/9.81\n",
        "#print(Isp)\n",
        "mi_1 = m_lander + (m_solid*6)\n",
        "print(mi_1)\n",
        "mf_1 = m_lander + (m_solid * 3)\n",
        "prop1 = (Isp)*(9.8) * np.log(mi_1/mf_1)\n",
        "print(prop1)\n",
        "\n",
        "# Prop Budget for ascent\n",
        "mi_2 = m_ascent + (m_solid*2)\n",
        "mf_2 = m_ascent\n",
        "print(mi_2)\n",
        "prop2 = (Isp)*(9.8) * np.log(mi_2/mf_2)\n",
        "print(prop2)\n"
      ],
      "metadata": {
        "id": "g0-RBK9KWgRT",
        "colab": {
          "base_uri": "https://localhost:8080/"
        },
        "outputId": "b55d2d88-991c-4529-d4c8-432d2d3e0f9e"
      },
      "execution_count": 161,
      "outputs": [
        {
          "output_type": "stream",
          "name": "stdout",
          "text": [
            "3121.1383000393866\n",
            "936.8\n",
            "1247.6941962306532\n",
            "302.6\n",
            "3840.023283348208\n"
          ]
        }
      ]
    },
    {
      "cell_type": "code",
      "source": [
        ""
      ],
      "metadata": {
        "id": "5OV8TBfDIiNI"
      },
      "execution_count": null,
      "outputs": []
    }
  ]
}