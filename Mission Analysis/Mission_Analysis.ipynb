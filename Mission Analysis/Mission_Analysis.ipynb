{
  "nbformat": 4,
  "nbformat_minor": 0,
  "metadata": {
    "colab": {
      "name": "Mission_Analysis.ipynb",
      "provenance": [],
      "toc_visible": true,
      "authorship_tag": "ABX9TyNZpxKR/4mjPinxJmYuQiOg",
      "include_colab_link": true
    },
    "kernelspec": {
      "name": "python3",
      "display_name": "Python 3"
    },
    "language_info": {
      "name": "python"
    }
  },
  "cells": [
    {
      "cell_type": "markdown",
      "metadata": {
        "id": "view-in-github",
        "colab_type": "text"
      },
      "source": [
        "<a href=\"https://colab.research.google.com/github/sapna5718/RAISE/blob/main/Mission%20Analysis/Mission_Analysis.ipynb\" target=\"_parent\"><img src=\"https://colab.research.google.com/assets/colab-badge.svg\" alt=\"Open In Colab\"/></a>"
      ]
    },
    {
      "cell_type": "markdown",
      "source": [
        "# Mission Analysis"
      ],
      "metadata": {
        "id": "j7Oa7XvJWZ66"
      }
    },
    {
      "cell_type": "code",
      "source": [
        "# Mercury Lander\n",
        "import numpy as np\n",
        "import math\n",
        "\n",
        "# Lander Parameters\n",
        "m_solid = 113.8 # NG rocket motor; kg\n",
        "m_propellant = 89 # kg\n",
        "m_casing = m_solid - m_propellant # kg\n",
        "m_lander = 156+98 # Lander mass without rocket motors includes ascent vehile; kg\n",
        "m_ascent = 98 # Ascent vehicle mass; kg\n",
        "\n",
        "# Orbital Parameters\n",
        "mu = 2.2032 * 10**13 # Gravitational Parameter; m^3/s^2\n",
        "r_mercury = 2.4397 * 10**6 # Mercury radius; m\n",
        "rp = (200 * (10 ** 3)) + r_mercury # Perigee of parking orbit around Mercury; m\n",
        "ra = (15200 * (10 ** 3)) + r_mercury # Apogee of parking orbit around Mercury; m\n",
        "a1 = (ra + rp)/2\n",
        "w = (2*math.pi/(88*24*3600))*r_mercury # speed of Mercury's surface; m/s\n",
        "g_merc = 3.7; # m/s^2\n",
        "\n",
        "# Orbital Mechanics\n",
        "# Velocity at periapsis of parking orbit\n",
        "v1 = np.sqrt((2*mu/rp)-(mu/a1))\n",
        "a2 = (rp + r_mercury)/2\n",
        "v2 = np.sqrt((2*mu/r_mercury)-(mu/a2))\n",
        "dv1 = v2-v1\n",
        "dv2 = -w-v2\n",
        "dv_total = np.abs(dv1)+np.abs(dv2)\n",
        "print(dv_total)\n",
        "\n",
        "# Prop Budget for landing\n",
        "Isp = (281*32.174*0.3048)/9.81\n",
        "print(Isp)\n",
        "mi_1 = m_lander + (m_solid*6)\n",
        "mf_1 = m_lander + m_solid\n",
        "prop1 = (3*Isp)*g_merc * np.log(mi_1/mf_1)\n",
        "print(prop1)\n",
        "\n",
        "# Prop Budget for ascent\n",
        "mi_2 = m_ascent + (m_solid*2)\n",
        "mf_2 = m_ascent\n",
        "prop2 = (2*Isp)*g_merc * np.log(mi_2/mf_2)\n",
        "print(prop2)\n"
      ],
      "metadata": {
        "id": "g0-RBK9KWgRT",
        "colab": {
          "base_uri": "https://localhost:8080/"
        },
        "outputId": "bf0aa515-72bf-4126-cd24-762b3761e030"
      },
      "execution_count": 62,
      "outputs": [
        {
          "output_type": "stream",
          "name": "stdout",
          "text": [
            "-3065.706179039872\n",
            "3812.5227495871036\n",
            "280.9036178593272\n",
            "2915.1414952102614\n",
            "2495.883687852982\n"
          ]
        }
      ]
    },
    {
      "cell_type": "code",
      "source": [
        ""
      ],
      "metadata": {
        "id": "5OV8TBfDIiNI"
      },
      "execution_count": null,
      "outputs": []
    }
  ]
}