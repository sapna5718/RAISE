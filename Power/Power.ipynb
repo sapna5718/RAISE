{
  "nbformat": 4,
  "nbformat_minor": 0,
  "metadata": {
    "colab": {
      "name": "Power.ipynb",
      "provenance": [],
      "authorship_tag": "ABX9TyP6tZuTs/SycCylBJ/K1TdF",
      "include_colab_link": true
    },
    "kernelspec": {
      "name": "python3",
      "display_name": "Python 3"
    },
    "language_info": {
      "name": "python"
    }
  },
  "cells": [
    {
      "cell_type": "markdown",
      "metadata": {
        "id": "view-in-github",
        "colab_type": "text"
      },
      "source": [
        "<a href=\"https://colab.research.google.com/github/sapna5718/RAISE/blob/main/Power/Power.ipynb\" target=\"_parent\"><img src=\"https://colab.research.google.com/assets/colab-badge.svg\" alt=\"Open In Colab\"/></a>"
      ]
    },
    {
      "cell_type": "markdown",
      "source": [
        "### Power"
      ],
      "metadata": {
        "id": "b-GcwOW_70lQ"
      }
    },
    {
      "cell_type": "code",
      "source": [
        ""
      ],
      "metadata": {
        "id": "PrxSzG0871nl"
      },
      "execution_count": null,
      "outputs": []
    }
  ]
}