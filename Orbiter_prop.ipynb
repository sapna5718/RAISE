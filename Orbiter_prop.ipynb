{
  "nbformat": 4,
  "nbformat_minor": 0,
  "metadata": {
    "colab": {
      "name": "Orbiter_prop.ipynb",
      "provenance": [],
      "toc_visible": true,
      "authorship_tag": "ABX9TyO3dLAK0QJsyEZ5TM1dto2F",
      "include_colab_link": true
    },
    "kernelspec": {
      "name": "python3",
      "display_name": "Python 3"
    },
    "language_info": {
      "name": "python"
    }
  },
  "cells": [
    {
      "cell_type": "markdown",
      "metadata": {
        "id": "view-in-github",
        "colab_type": "text"
      },
      "source": [
        "<a href=\"https://colab.research.google.com/github/sapna5718/RAISE/blob/main/Orbiter_prop.ipynb\" target=\"_parent\"><img src=\"https://colab.research.google.com/assets/colab-badge.svg\" alt=\"Open In Colab\"/></a>"
      ]
    },
    {
      "cell_type": "code",
      "execution_count": 31,
      "metadata": {
        "colab": {
          "base_uri": "https://localhost:8080/"
        },
        "id": "opuAkwXwO-3M",
        "outputId": "05169564-2419-4ec9-f0ef-f83af5d86c24"
      },
      "outputs": [
        {
          "output_type": "stream",
          "name": "stdout",
          "text": [
            "Total dry mass for orbiter in kgs: 2481.4\n",
            "Total del V budget in m/s: 2917\n",
            "Isp in seconds: 7500\n",
            "Effective exhaust velocity in m/s: 73575.0\n",
            "mass of propellant required in kgs: 2581.7553508203323\n",
            "Total dry mass during return in kgs: 720.7\n",
            "mass of propellant required during return in Kgs:  749.847296419849\n"
          ]
        }
      ],
      "source": [
        "#Orbiter\n",
        "import numpy as np\n",
        "import math\n",
        "#parmaeter\n",
        "#mass of lander and ascent (/w propellant)\n",
        "m_la=1876.4;\n",
        "# dry mass of the orbiter\n",
        "m_o=605;\n",
        "#total dry mass\n",
        "d_m=m_la+m_o\n",
        "print(\"Total dry mass for orbiter in kgs:\",d_m)\n",
        "#del V budget for cruise and orbiter\n",
        "delv_cr=2000;\n",
        "delv_or=917;\n",
        "delv_tot=delv_cr+delv_or\n",
        "print(\"Total del V budget in m/s:\",delv_tot)\n",
        "\n",
        "#g= acceleration due to gravity\n",
        "g=9.81;\n",
        "#specific impulse for Nuclear ion\n",
        "Isp=7500;\n",
        "print(\"Isp in seconds:\",Isp)\n",
        "#effective exhaust velocity\n",
        "v_e=Isp*g\n",
        "print(\"Effective exhaust velocity in m/s:\", v_e)\n",
        "p1=delv_tot/v_e;\n",
        "\n",
        "#propellant mass\n",
        "p2=np.exp(p1)\n",
        "\n",
        "#mass of propellant\n",
        "m_p=p2*d_m\n",
        "print(\"mass of propellant required in kgs:\",m_p)\n",
        "\n",
        "#For return\n",
        "#dry mass in return=mass of ascent (w/o propellant)+mass of orbiter\n",
        "m_awop=115.7;\n",
        "d_m_r=m_awop+m_o;\n",
        "print(\"Total dry mass during return in kgs:\",d_m_r)\n",
        "#mass of propellant during return\n",
        "m_p_r=p2*d_m_r\n",
        "print(\"mass of propellant required during return in Kgs: \",m_p_r)"
      ]
    }
  ]
}