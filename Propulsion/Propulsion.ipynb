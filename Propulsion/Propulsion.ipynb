{
  "nbformat": 4,
  "nbformat_minor": 0,
  "metadata": {
    "colab": {
      "name": "Propulsion.ipynb",
      "provenance": [],
      "authorship_tag": "ABX9TyMZY8AbJmHvJYM+wSGO/h9A",
      "include_colab_link": true
    },
    "kernelspec": {
      "name": "python3",
      "display_name": "Python 3"
    },
    "language_info": {
      "name": "python"
    }
  },
  "cells": [
    {
      "cell_type": "markdown",
      "metadata": {
        "id": "view-in-github",
        "colab_type": "text"
      },
      "source": [
        "<a href=\"https://colab.research.google.com/github/sapna5718/RAISE/blob/main/Propulsion/Propulsion.ipynb\" target=\"_parent\"><img src=\"https://colab.research.google.com/assets/colab-badge.svg\" alt=\"Open In Colab\"/></a>"
      ]
    },
    {
      "cell_type": "markdown",
      "source": [
        "Propulsion"
      ],
      "metadata": {
        "id": "2_5gsx2e6Sqb"
      }
    },
    {
      "cell_type": "code",
      "source": [
        ""
      ],
      "metadata": {
        "id": "z37zFVI76K0K"
      },
      "execution_count": null,
      "outputs": []
    }
  ]
}